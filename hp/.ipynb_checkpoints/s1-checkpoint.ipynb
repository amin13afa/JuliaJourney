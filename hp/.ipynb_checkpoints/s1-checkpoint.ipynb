{
 "cells": [
  {
   "cell_type": "code",
   "execution_count": 1,
   "id": "a46e0f8f",
   "metadata": {},
   "outputs": [
    {
     "data": {
      "text/plain": [
       "add2 (generic function with 1 method)"
      ]
     },
     "execution_count": 1,
     "metadata": {},
     "output_type": "execute_result"
    }
   ],
   "source": [
    "add2(a,b) = a+b"
   ]
  },
  {
   "cell_type": "code",
   "execution_count": 2,
   "id": "9cd6b3df",
   "metadata": {},
   "outputs": [
    {
     "data": {
      "text/plain": [
       "Float64"
      ]
     },
     "execution_count": 2,
     "metadata": {},
     "output_type": "execute_result"
    }
   ],
   "source": [
    "typeof(add2(1.0,2.0))"
   ]
  },
  {
   "cell_type": "code",
   "execution_count": 3,
   "id": "53fe206d",
   "metadata": {},
   "outputs": [
    {
     "data": {
      "text/plain": [
       "Int64"
      ]
     },
     "execution_count": 3,
     "metadata": {},
     "output_type": "execute_result"
    }
   ],
   "source": [
    "typeof(add2(1,2))"
   ]
  },
  {
   "cell_type": "markdown",
   "id": "22c79a2d",
   "metadata": {},
   "source": [
    "### methods"
   ]
  },
  {
   "cell_type": "code",
   "execution_count": 4,
   "id": "9279e260",
   "metadata": {},
   "outputs": [
    {
     "data": {
      "text/html": [
       "# 1 method for generic function <b>add2</b>:<ul><li> add2(a, b) in Main at In[1]:1</li> </ul>"
      ],
      "text/plain": [
       "# 1 method for generic function \"add2\":\n",
       "[1] add2(a, b) in Main at In[1]:1"
      ]
     },
     "execution_count": 4,
     "metadata": {},
     "output_type": "execute_result"
    }
   ],
   "source": [
    "methods(add2)"
   ]
  },
  {
   "cell_type": "code",
   "execution_count": 8,
   "id": "ea030f0b",
   "metadata": {},
   "outputs": [
    {
     "data": {
      "text/html": [
       "add2(a, b) in Main at In[1]:1"
      ],
      "text/plain": [
       "add2(a, b) in Main at In[1]:1"
      ]
     },
     "execution_count": 8,
     "metadata": {},
     "output_type": "execute_result"
    }
   ],
   "source": [
    "m = @which add2(1,2)\n",
    "m"
   ]
  },
  {
   "cell_type": "code",
   "execution_count": 11,
   "id": "d7ac1f2b",
   "metadata": {},
   "outputs": [],
   "source": [
    "# we can also use MethodAnalysis  package \n",
    "# and then \n",
    "\n",
    "# using MethodAnalysis\n",
    "# methodinstances(m)"
   ]
  },
  {
   "cell_type": "code",
   "execution_count": null,
   "id": "073e01c9",
   "metadata": {},
   "outputs": [],
   "source": []
  }
 ],
 "metadata": {
  "kernelspec": {
   "display_name": "Julia 1.8.2",
   "language": "julia",
   "name": "julia-1.8"
  },
  "language_info": {
   "file_extension": ".jl",
   "mimetype": "application/julia",
   "name": "julia",
   "version": "1.8.2"
  }
 },
 "nbformat": 4,
 "nbformat_minor": 5
}
